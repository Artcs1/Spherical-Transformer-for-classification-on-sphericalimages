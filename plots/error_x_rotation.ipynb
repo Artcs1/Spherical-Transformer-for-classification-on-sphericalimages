{
 "cells": [
  {
   "cell_type": "code",
   "execution_count": 1,
   "metadata": {},
   "outputs": [],
   "source": [
    "import matplotlib.pyplot as plt\n",
    "import pandas as pd\n",
    "import numpy as np\n",
    "import cv2"
   ]
  },
  {
   "cell_type": "code",
   "execution_count": 2,
   "metadata": {},
   "outputs": [
    {
     "name": "stdout",
     "output_type": "stream",
     "text": [
      "rotations_results_10000.txt     Untitled.ipynb\r\n",
      "rotations_results_20000.txt     upright_results_10000.txt\r\n",
      "rotations_results_bifuse_1.txt  upright_results_20000.txt\r\n",
      "rotations_results_bifuse.txt    upright_results.txt\r\n",
      "rotations_results.txt\r\n"
     ]
    }
   ],
   "source": [
    "ls"
   ]
  },
  {
   "cell_type": "code",
   "execution_count": 176,
   "metadata": {},
   "outputs": [],
   "source": [
    "rot_results = pd.read_csv('rotations_results.txt')\n",
    "upright_results = pd.read_csv('upright_results.txt')\n",
    "old_upright_results = pd.read_csv('upright_results_20000.txt')"
   ]
  },
  {
   "cell_type": "code",
   "execution_count": 177,
   "metadata": {},
   "outputs": [
    {
     "data": {
      "text/plain": [
       "10000"
      ]
     },
     "execution_count": 177,
     "metadata": {},
     "output_type": "execute_result"
    }
   ],
   "source": [
    "len(rot_results)"
   ]
  },
  {
   "cell_type": "code",
   "execution_count": 178,
   "metadata": {},
   "outputs": [
    {
     "data": {
      "text/html": [
       "<div>\n",
       "<style scoped>\n",
       "    .dataframe tbody tr th:only-of-type {\n",
       "        vertical-align: middle;\n",
       "    }\n",
       "\n",
       "    .dataframe tbody tr th {\n",
       "        vertical-align: top;\n",
       "    }\n",
       "\n",
       "    .dataframe thead th {\n",
       "        text-align: right;\n",
       "    }\n",
       "</style>\n",
       "<table border=\"1\" class=\"dataframe\">\n",
       "  <thead>\n",
       "    <tr style=\"text-align: right;\">\n",
       "      <th></th>\n",
       "      <th>input</th>\n",
       "      <th>rand_x</th>\n",
       "      <th>rand_y</th>\n",
       "      <th>abs_rel</th>\n",
       "      <th>sq_rel</th>\n",
       "      <th>rms_sq_lin</th>\n",
       "      <th>rms_sq_log</th>\n",
       "      <th>d1</th>\n",
       "      <th>d2</th>\n",
       "      <th>d3</th>\n",
       "    </tr>\n",
       "  </thead>\n",
       "  <tbody>\n",
       "  </tbody>\n",
       "</table>\n",
       "</div>"
      ],
      "text/plain": [
       "Empty DataFrame\n",
       "Columns: [input, rand_x, rand_y, abs_rel, sq_rel, rms_sq_lin, rms_sq_log, d1, d2, d3]\n",
       "Index: []"
      ]
     },
     "execution_count": 178,
     "metadata": {},
     "output_type": "execute_result"
    }
   ],
   "source": [
    "rot_results[rot_results['abs_rel'] > 100]"
   ]
  },
  {
   "cell_type": "code",
   "execution_count": 179,
   "metadata": {
    "scrolled": false
   },
   "outputs": [
    {
     "data": {
      "text/plain": [
       "rand_x        0.118285\n",
       "rand_y       -0.192991\n",
       "abs_rel       0.180376\n",
       "sq_rel        0.123711\n",
       "rms_sq_lin    0.352273\n",
       "rms_sq_log    0.062769\n",
       "d1            0.711318\n",
       "d2            0.928799\n",
       "d3            0.978888\n",
       "dtype: float64"
      ]
     },
     "execution_count": 179,
     "metadata": {},
     "output_type": "execute_result"
    }
   ],
   "source": [
    "rot_results.mean()"
   ]
  },
  {
   "cell_type": "code",
   "execution_count": 180,
   "metadata": {
    "scrolled": false
   },
   "outputs": [
    {
     "data": {
      "text/plain": [
       "rand_x        0.118285\n",
       "rand_y       -0.192991\n",
       "abs_rel       0.115596\n",
       "sq_rel        0.054777\n",
       "rms_sq_lin    0.139700\n",
       "rms_sq_log    0.028935\n",
       "d1            0.867730\n",
       "d2            0.974091\n",
       "d3            0.992811\n",
       "dtype: float64"
      ]
     },
     "execution_count": 180,
     "metadata": {},
     "output_type": "execute_result"
    }
   ],
   "source": [
    "upright_results.mean()"
   ]
  },
  {
   "cell_type": "code",
   "execution_count": 182,
   "metadata": {
    "scrolled": true
   },
   "outputs": [],
   "source": [
    "acc_map = np.zeros((18,36))\n",
    "frq_map = np.zeros((18,36))\n",
    "\n",
    "for idx, row in rot_results.iterrows():\n",
    "    x_idx = int((row['rand_x'] + 180) / 10)\n",
    "    y_idx = int((row['rand_y'] + 90) / 10)\n",
    "\n",
    "    acc_map[y_idx][x_idx] += row['abs_rel']\n",
    "    frq_map[y_idx][x_idx] += 1\n",
    "    \n",
    "rot_err_map = acc_map/frq_map"
   ]
  },
  {
   "cell_type": "code",
   "execution_count": 183,
   "metadata": {
    "scrolled": true
   },
   "outputs": [],
   "source": [
    "acc_map = np.zeros((18,36))\n",
    "frq_map = np.zeros((18,36))\n",
    "\n",
    "for idx, row in upright_results.iterrows():\n",
    "    x_idx = int((row['rand_x'] + 180) / 10)\n",
    "    y_idx = int((row['rand_y'] + 90) / 10)\n",
    "    \n",
    "    acc_map[y_idx][x_idx] += row['abs_rel']\n",
    "    frq_map[y_idx][x_idx] += 1\n",
    "\n",
    "upright_err_map = acc_map/frq_map"
   ]
  },
  {
   "cell_type": "code",
   "execution_count": 184,
   "metadata": {},
   "outputs": [],
   "source": [
    "max_error = max(upright_err_map.max(), rot_err_map.max())\n",
    "min_error = min(upright_err_map.min(), rot_err_map.min())"
   ]
  },
  {
   "cell_type": "code",
   "execution_count": 187,
   "metadata": {
    "scrolled": false
   },
   "outputs": [
    {
     "data": {
      "image/png": "[encoded data removed]",
      "text/plain": [
       "<Figure size 576x288 with 1 Axes>"
      ]
     },
     "metadata": {
      "needs_background": "light"
     },
     "output_type": "display_data"
    }
   ],
   "source": [
    "plt.matshow(rot_err_map)\n",
    "plt.clim(min_error, max_error)\n",
    "#plt.colorbar(fraction=0.08, pad=0.1)\n",
    "plt.yticks(np.arange(-.5, 18, 1), np.arange(-90,100,10), fontsize=12)\n",
    "plt.locator_params(nbins=7, axis='y')\n",
    "plt.xticks(np.arange(-.5, 36, 1), np.arange(-180,190,10), fontsize=12)\n",
    "plt.locator_params(nbins=7, axis='x')\n",
    "plt.xlabel('roll (degrees)', fontsize=12)\n",
    "plt.ylabel('pitch (degrees)', fontsize=12)\n",
    "plt.show()\n"
   ]
  },
  {
   "cell_type": "code",
   "execution_count": 199,
   "metadata": {
    "scrolled": true
   },
   "outputs": [
    {
     "data": {
      "image/png": "[encoded data removed]",
      "text/plain": [
       "<Figure size 576x288 with 2 Axes>"
      ]
     },
     "metadata": {
      "needs_background": "light"
     },
     "output_type": "display_data"
    }
   ],
   "source": [
    "plt.matshow(upright_err_map)\n",
    "plt.clim(min_error, max_error)\n",
    "plt.colorbar(fraction=0.08, pad=0.1)\n",
    "plt.yticks(np.arange(-.5, 18, 1), np.arange(-90,100,10), fontsize=12)\n",
    "plt.locator_params(nbins=7, axis='y')\n",
    "plt.xticks(np.arange(-.5, 36, 1), np.arange(-180,190,10), fontsize=12, )\n",
    "plt.locator_params(nbins=7, axis='x')\n",
    "plt.xlabel('roll (degrees)', fontsize=12)\n",
    "plt.ylabel('pitch (degrees)', fontsize=12)\n",
    "plt.show()\n"
   ]
  },
  {
   "cell_type": "code",
   "execution_count": 23,
   "metadata": {
    "scrolled": true
   },
   "outputs": [
    {
     "data": {
      "text/html": [
       "<div>\n",
       "<style scoped>\n",
       "    .dataframe tbody tr th:only-of-type {\n",
       "        vertical-align: middle;\n",
       "    }\n",
       "\n",
       "    .dataframe tbody tr th {\n",
       "        vertical-align: top;\n",
       "    }\n",
       "\n",
       "    .dataframe thead th {\n",
       "        text-align: right;\n",
       "    }\n",
       "</style>\n",
       "<table border=\"1\" class=\"dataframe\">\n",
       "  <thead>\n",
       "    <tr style=\"text-align: right;\">\n",
       "      <th></th>\n",
       "      <th>input</th>\n",
       "      <th>rand_x</th>\n",
       "      <th>rand_y</th>\n",
       "      <th>abs_rel</th>\n",
       "      <th>sq_rel</th>\n",
       "      <th>rms_sq_lin</th>\n",
       "      <th>rms_sq_log</th>\n",
       "      <th>d1</th>\n",
       "      <th>d2</th>\n",
       "      <th>d3</th>\n",
       "    </tr>\n",
       "  </thead>\n",
       "  <tbody>\n",
       "    <tr>\n",
       "      <th>75</th>\n",
       "      <td>DR75DR</td>\n",
       "      <td>-164.069658</td>\n",
       "      <td>-85.999212</td>\n",
       "      <td>0.148049</td>\n",
       "      <td>0.051628</td>\n",
       "      <td>0.101959</td>\n",
       "      <td>0.029841</td>\n",
       "      <td>0.811813</td>\n",
       "      <td>0.990527</td>\n",
       "      <td>0.999487</td>\n",
       "    </tr>\n",
       "    <tr>\n",
       "      <th>94</th>\n",
       "      <td>DR94DR</td>\n",
       "      <td>-169.493472</td>\n",
       "      <td>-84.963994</td>\n",
       "      <td>0.053788</td>\n",
       "      <td>0.012385</td>\n",
       "      <td>0.035139</td>\n",
       "      <td>0.005685</td>\n",
       "      <td>0.986204</td>\n",
       "      <td>0.998308</td>\n",
       "      <td>0.999877</td>\n",
       "    </tr>\n",
       "    <tr>\n",
       "      <th>2012</th>\n",
       "      <td>DR2012DR</td>\n",
       "      <td>-165.175352</td>\n",
       "      <td>-82.761249</td>\n",
       "      <td>0.046594</td>\n",
       "      <td>0.009767</td>\n",
       "      <td>0.026723</td>\n",
       "      <td>0.004674</td>\n",
       "      <td>0.988837</td>\n",
       "      <td>0.999313</td>\n",
       "      <td>0.999954</td>\n",
       "    </tr>\n",
       "    <tr>\n",
       "      <th>3611</th>\n",
       "      <td>DR3611DR</td>\n",
       "      <td>-166.132660</td>\n",
       "      <td>-83.768641</td>\n",
       "      <td>0.267263</td>\n",
       "      <td>0.192420</td>\n",
       "      <td>0.386197</td>\n",
       "      <td>0.082233</td>\n",
       "      <td>0.543061</td>\n",
       "      <td>0.909352</td>\n",
       "      <td>0.974202</td>\n",
       "    </tr>\n",
       "    <tr>\n",
       "      <th>4850</th>\n",
       "      <td>DR4850DR</td>\n",
       "      <td>-165.926317</td>\n",
       "      <td>-81.312647</td>\n",
       "      <td>0.228740</td>\n",
       "      <td>0.086473</td>\n",
       "      <td>0.111252</td>\n",
       "      <td>0.065909</td>\n",
       "      <td>0.616612</td>\n",
       "      <td>0.928176</td>\n",
       "      <td>0.987472</td>\n",
       "    </tr>\n",
       "    <tr>\n",
       "      <th>5782</th>\n",
       "      <td>DR5782DR</td>\n",
       "      <td>-163.105812</td>\n",
       "      <td>-80.660022</td>\n",
       "      <td>0.127419</td>\n",
       "      <td>0.077733</td>\n",
       "      <td>0.284867</td>\n",
       "      <td>0.019859</td>\n",
       "      <td>0.894057</td>\n",
       "      <td>0.996115</td>\n",
       "      <td>0.999992</td>\n",
       "    </tr>\n",
       "    <tr>\n",
       "      <th>5983</th>\n",
       "      <td>DR5983DR</td>\n",
       "      <td>-169.332127</td>\n",
       "      <td>-87.566689</td>\n",
       "      <td>0.499460</td>\n",
       "      <td>1.311160</td>\n",
       "      <td>2.317600</td>\n",
       "      <td>0.258682</td>\n",
       "      <td>0.491434</td>\n",
       "      <td>0.757646</td>\n",
       "      <td>0.826012</td>\n",
       "    </tr>\n",
       "    <tr>\n",
       "      <th>6026</th>\n",
       "      <td>DR6026DR</td>\n",
       "      <td>-168.267748</td>\n",
       "      <td>-83.734699</td>\n",
       "      <td>0.141760</td>\n",
       "      <td>0.078610</td>\n",
       "      <td>0.274257</td>\n",
       "      <td>0.046126</td>\n",
       "      <td>0.802517</td>\n",
       "      <td>0.970718</td>\n",
       "      <td>0.984631</td>\n",
       "    </tr>\n",
       "    <tr>\n",
       "      <th>6418</th>\n",
       "      <td>DR6418DR</td>\n",
       "      <td>-163.665839</td>\n",
       "      <td>-89.165328</td>\n",
       "      <td>0.109472</td>\n",
       "      <td>0.039989</td>\n",
       "      <td>0.109755</td>\n",
       "      <td>0.017935</td>\n",
       "      <td>0.923914</td>\n",
       "      <td>0.994641</td>\n",
       "      <td>0.998856</td>\n",
       "    </tr>\n",
       "    <tr>\n",
       "      <th>6703</th>\n",
       "      <td>DR6703DR</td>\n",
       "      <td>-169.884729</td>\n",
       "      <td>-81.541599</td>\n",
       "      <td>0.276439</td>\n",
       "      <td>0.142103</td>\n",
       "      <td>0.191727</td>\n",
       "      <td>0.085926</td>\n",
       "      <td>0.521496</td>\n",
       "      <td>0.891761</td>\n",
       "      <td>0.978073</td>\n",
       "    </tr>\n",
       "    <tr>\n",
       "      <th>7783</th>\n",
       "      <td>DR7783DR</td>\n",
       "      <td>-162.486651</td>\n",
       "      <td>-83.029301</td>\n",
       "      <td>0.116150</td>\n",
       "      <td>0.054549</td>\n",
       "      <td>0.083858</td>\n",
       "      <td>0.025229</td>\n",
       "      <td>0.923545</td>\n",
       "      <td>0.977516</td>\n",
       "      <td>0.987247</td>\n",
       "    </tr>\n",
       "    <tr>\n",
       "      <th>8656</th>\n",
       "      <td>DR8656DR</td>\n",
       "      <td>-164.192253</td>\n",
       "      <td>-87.738050</td>\n",
       "      <td>0.323231</td>\n",
       "      <td>0.229702</td>\n",
       "      <td>0.549777</td>\n",
       "      <td>0.101622</td>\n",
       "      <td>0.411913</td>\n",
       "      <td>0.839124</td>\n",
       "      <td>0.994644</td>\n",
       "    </tr>\n",
       "    <tr>\n",
       "      <th>9284</th>\n",
       "      <td>DR9284DR</td>\n",
       "      <td>-162.725352</td>\n",
       "      <td>-83.661666</td>\n",
       "      <td>0.204683</td>\n",
       "      <td>0.090225</td>\n",
       "      <td>0.132446</td>\n",
       "      <td>0.056824</td>\n",
       "      <td>0.672699</td>\n",
       "      <td>0.931975</td>\n",
       "      <td>0.996192</td>\n",
       "    </tr>\n",
       "  </tbody>\n",
       "</table>\n",
       "</div>"
      ],
      "text/plain": [
       "         input      rand_x     rand_y   abs_rel    sq_rel  rms_sq_lin  \\\n",
       "75      DR75DR -164.069658 -85.999212  0.148049  0.051628    0.101959   \n",
       "94      DR94DR -169.493472 -84.963994  0.053788  0.012385    0.035139   \n",
       "2012  DR2012DR -165.175352 -82.761249  0.046594  0.009767    0.026723   \n",
       "3611  DR3611DR -166.132660 -83.768641  0.267263  0.192420    0.386197   \n",
       "4850  DR4850DR -165.926317 -81.312647  0.228740  0.086473    0.111252   \n",
       "5782  DR5782DR -163.105812 -80.660022  0.127419  0.077733    0.284867   \n",
       "5983  DR5983DR -169.332127 -87.566689  0.499460  1.311160    2.317600   \n",
       "6026  DR6026DR -168.267748 -83.734699  0.141760  0.078610    0.274257   \n",
       "6418  DR6418DR -163.665839 -89.165328  0.109472  0.039989    0.109755   \n",
       "6703  DR6703DR -169.884729 -81.541599  0.276439  0.142103    0.191727   \n",
       "7783  DR7783DR -162.486651 -83.029301  0.116150  0.054549    0.083858   \n",
       "8656  DR8656DR -164.192253 -87.738050  0.323231  0.229702    0.549777   \n",
       "9284  DR9284DR -162.725352 -83.661666  0.204683  0.090225    0.132446   \n",
       "\n",
       "      rms_sq_log        d1        d2        d3  \n",
       "75      0.029841  0.811813  0.990527  0.999487  \n",
       "94      0.005685  0.986204  0.998308  0.999877  \n",
       "2012    0.004674  0.988837  0.999313  0.999954  \n",
       "3611    0.082233  0.543061  0.909352  0.974202  \n",
       "4850    0.065909  0.616612  0.928176  0.987472  \n",
       "5782    0.019859  0.894057  0.996115  0.999992  \n",
       "5983    0.258682  0.491434  0.757646  0.826012  \n",
       "6026    0.046126  0.802517  0.970718  0.984631  \n",
       "6418    0.017935  0.923914  0.994641  0.998856  \n",
       "6703    0.085926  0.521496  0.891761  0.978073  \n",
       "7783    0.025229  0.923545  0.977516  0.987247  \n",
       "8656    0.101622  0.411913  0.839124  0.994644  \n",
       "9284    0.056824  0.672699  0.931975  0.996192  "
      ]
     },
     "execution_count": 23,
     "metadata": {},
     "output_type": "execute_result"
    }
   ],
   "source": [
    "upright_results.loc[(upright_results['rand_x'] < -160) & (upright_results['rand_x'] > -170) & (upright_results['rand_y'] < -80)]"
   ]
  },
  {
   "cell_type": "code",
   "execution_count": 27,
   "metadata": {},
   "outputs": [
    {
     "data": {
      "text/plain": [
       "10000.0"
      ]
     },
     "execution_count": 27,
     "metadata": {},
     "output_type": "execute_result"
    }
   ],
   "source": [
    "frq_map.mean() "
   ]
  },
  {
   "cell_type": "code",
   "execution_count": null,
   "metadata": {},
   "outputs": [],
   "source": []
  },
  {
   "cell_type": "code",
   "execution_count": 13,
   "metadata": {
    "scrolled": false
   },
   "outputs": [
    {
     "data": {
      "image/png": "[encoded data removed]",
      "text/plain": [
       "<Figure size 288x576 with 2 Axes>"
      ]
     },
     "metadata": {
      "needs_background": "light"
     },
     "output_type": "display_data"
    }
   ],
   "source": [
    "acc_map = np.zeros((36,18))\n",
    "frq_map = np.zeros((36,18))\n",
    "\n",
    "for idx, row in old_upright_results.iterrows():\n",
    "    x_idx = int((row['rand_x'] + 180) / 10)\n",
    "    y_idx = int((row['rand_y'] + 90) / 10)\n",
    "    \n",
    "    acc_map[x_idx][y_idx] += row['abs_rel']\n",
    "    frq_map[x_idx][y_idx] += 1\n",
    "\n",
    "old_upright_err_map = acc_map/frq_map\n",
    "\n",
    "plt.matshow(old_upright_err_map, cmap='jet')\n",
    "plt.clim(min_error, max_error)\n",
    "plt.colorbar(fraction=0.08, pad=0.1)\n",
    "plt.xticks(np.arange(-.5, 18, 1), np.arange(-90,100,10), fontsize=12)\n",
    "plt.locator_params(nbins=9, axis='x')\n",
    "plt.yticks(np.arange(-.5, 36, 1), np.arange(-180,190,10), fontsize=12)\n",
    "plt.locator_params(nbins=18, axis='y')\n",
    "plt.title('Error map for RectNet + Upright Adjustment 1')\n",
    "plt.xlabel('pitch', fontsize=12)\n",
    "plt.ylabel('roll', fontsize=12)\n",
    "plt.show()\n"
   ]
  },
  {
   "cell_type": "code",
   "execution_count": 35,
   "metadata": {
    "scrolled": true
   },
   "outputs": [
    {
     "data": {
      "image/png": "[encoded data removed]",
      "text/plain": [
       "<Figure size 288x576 with 2 Axes>"
      ]
     },
     "metadata": {
      "needs_background": "light"
     },
     "output_type": "display_data"
    }
   ],
   "source": [
    "plt.matshow(upright_err_map-old_upright_err_map, cmap='jet')\n",
    "plt.colorbar(fraction=0.08, pad=0.1)\n",
    "plt.xticks(np.arange(-.5, 18, 1), np.arange(-90,100,10), fontsize=12)\n",
    "plt.locator_params(nbins=9, axis='x')\n",
    "plt.yticks(np.arange(-.5, 36, 1), np.arange(-180,190,10), fontsize=12)\n",
    "plt.locator_params(nbins=18, axis='y')\n",
    "plt.title('Error map for RectNet + Upright Adjustment')\n",
    "plt.xlabel('pitch', fontsize=12)\n",
    "plt.ylabel('roll', fontsize=12)\n",
    "plt.show()\n"
   ]
  },
  {
   "cell_type": "code",
   "execution_count": 71,
   "metadata": {
    "scrolled": true
   },
   "outputs": [
    {
     "data": {
      "text/plain": [
       "0.11388364631463499"
      ]
     },
     "execution_count": 71,
     "metadata": {},
     "output_type": "execute_result"
    }
   ],
   "source": [
    "old_upright_results.loc[(old_upright_results['rand_x'].abs() < 5) & (old_upright_results['rand_y'].abs() < 5)]['abs_rel'].mean()"
   ]
  },
  {
   "cell_type": "code",
   "execution_count": 72,
   "metadata": {
    "scrolled": true
   },
   "outputs": [
    {
     "data": {
      "text/plain": [
       "0.10899525401847703"
      ]
     },
     "execution_count": 72,
     "metadata": {},
     "output_type": "execute_result"
    }
   ],
   "source": [
    "upright_results.loc[(upright_results['rand_x'].abs() < 5) & (upright_results['rand_y'].abs() < 5)]['abs_rel'].mean()"
   ]
  },
  {
   "cell_type": "code",
   "execution_count": 77,
   "metadata": {},
   "outputs": [
    {
     "data": {
      "text/plain": [
       "0.11367359292507172"
      ]
     },
     "execution_count": 77,
     "metadata": {},
     "output_type": "execute_result"
    }
   ],
   "source": [
    "upright_results['abs_rel'].iloc[:1000].mean()"
   ]
  },
  {
   "cell_type": "code",
   "execution_count": 78,
   "metadata": {},
   "outputs": [
    {
     "data": {
      "text/plain": [
       "0.12072196918725968"
      ]
     },
     "execution_count": 78,
     "metadata": {},
     "output_type": "execute_result"
    }
   ],
   "source": [
    "old_upright_results['abs_rel'].iloc[:1000].mean()"
   ]
  },
  {
   "cell_type": "code",
   "execution_count": 12,
   "metadata": {},
   "outputs": [
    {
     "data": {
      "text/plain": [
       "0.19561910371367747"
      ]
     },
     "execution_count": 12,
     "metadata": {},
     "output_type": "execute_result"
    }
   ],
   "source": [
    "upright_err_map.max()"
   ]
  },
  {
   "cell_type": "code",
   "execution_count": 27,
   "metadata": {},
   "outputs": [
    {
     "data": {
      "text/plain": [
       "0.2352487165480852"
      ]
     },
     "execution_count": 27,
     "metadata": {},
     "output_type": "execute_result"
    }
   ],
   "source": [
    "rot_err_map.max()"
   ]
  },
  {
   "cell_type": "code",
   "execution_count": null,
   "metadata": {},
   "outputs": [],
   "source": []
  },
  {
   "cell_type": "code",
   "execution_count": 13,
   "metadata": {
    "scrolled": false
   },
   "outputs": [
    {
     "data": {
      "text/plain": [
       "92.87679592923878"
      ]
     },
     "execution_count": 13,
     "metadata": {},
     "output_type": "execute_result"
    }
   ],
   "source": [
    "upright_results.loc[upright_results['abs_rel']>0.25]['rand_x'].abs().mean()"
   ]
  },
  {
   "cell_type": "code",
   "execution_count": 14,
   "metadata": {},
   "outputs": [
    {
     "data": {
      "text/plain": [
       "90.74067200565577"
      ]
     },
     "execution_count": 14,
     "metadata": {},
     "output_type": "execute_result"
    }
   ],
   "source": [
    "upright_results['rand_x'].abs().mean()"
   ]
  },
  {
   "cell_type": "code",
   "execution_count": 15,
   "metadata": {},
   "outputs": [
    {
     "data": {
      "text/plain": [
       "([<matplotlib.axis.XTick at 0x7f63454d6df0>,\n",
       "  <matplotlib.axis.XTick at 0x7f63454d6dc0>,\n",
       "  <matplotlib.axis.XTick at 0x7f6345562700>,\n",
       "  <matplotlib.axis.XTick at 0x7f6345508790>],\n",
       " [Text(0, 0, ''), Text(0, 0, ''), Text(0, 0, ''), Text(0, 0, '')])"
      ]
     },
     "execution_count": 15,
     "metadata": {},
     "output_type": "execute_result"
    },
    {
     "data": {
      "image/png": "[encoded data removed]",
      "text/plain": [
       "<Figure size 432x288 with 1 Axes>"
      ]
     },
     "metadata": {
      "needs_background": "light"
     },
     "output_type": "display_data"
    }
   ],
   "source": [
    "plt.xticks([-90,60,30,0,])"
   ]
  },
  {
   "cell_type": "code",
   "execution_count": null,
   "metadata": {},
   "outputs": [],
   "source": []
  }
 ],
 "metadata": {
  "kernelspec": {
   "display_name": "Python 3",
   "language": "python",
   "name": "python3"
  },
  "language_info": {
   "codemirror_mode": {
    "name": "ipython",
    "version": 3
   },
   "file_extension": ".py",
   "mimetype": "text/x-python",
   "name": "python",
   "nbconvert_exporter": "python",
   "pygments_lexer": "ipython3",
   "version": "3.8.3"
  }
 },
 "nbformat": 4,
 "nbformat_minor": 4
}
